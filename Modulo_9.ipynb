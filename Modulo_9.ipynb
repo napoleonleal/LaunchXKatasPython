{
  "cells": [
    {
      "cell_type": "markdown",
      "metadata": {
        "id": "Ye5JDog0JY2r"
      },
      "source": [
        "# Ejercicio: Uso de funciones en Python"
      ]
    },
    {
      "cell_type": "markdown",
      "metadata": {
        "id": "2ivDMcCQJY2z"
      },
      "source": [
        "### Ejercicio 1: Trabajar con argumentos en funciones\n",
        "\n",
        "Los argumentos requeridos en las funciones se utilizan cuando las funciones necesitan que esos argumentos funcionen correctamente. En este ejercicio, construirás un informe de combustible que requiere información de varias ubicaciones de combustible en todo el cohete.\n",
        "\n"
      ]
    },
    {
      "cell_type": "markdown",
      "metadata": {
        "id": "6j6KeY-1JY21"
      },
      "source": [
        "> **TIP**\n",
        "> Dedica unos minutos para tratar de encontrar una solución. Luego desplázate hacia abajo hasta la parte inferior para ver si has logrado compilar el programa de acuerdo con las especificaciones\n",
        "\n",
        "Comienza por crear una función que necesite tres lecturas de combustible y devuelva un informe:"
      ]
    },
    {
      "cell_type": "code",
      "execution_count": 1,
      "metadata": {
        "id": "qPXednnrJY23"
      },
      "outputs": [],
      "source": [
        "# Función para leer 3 tanques de combustible y muestre el promedio\n",
        "def generadorRepote(tanquePrincipal, tanqueExterno, tanqueHidrógeno):\n",
        "    promedio = (tanquePrincipal + tanqueExterno + tanqueHidrógeno) / 3\n",
        "    return f\"\"\"Reporte de combustible:\n",
        "    promedio: {promedio}%\n",
        "    Tanque Principal: {tanquePrincipal}%\n",
        "    Tanque Externo: {tanqueExterno}%\n",
        "    Tanque Hidrógeno: {tanqueHidrógeno}% \n",
        "    \"\"\""
      ]
    },
    {
      "cell_type": "markdown",
      "metadata": {
        "id": "GzqeCp41JY26"
      },
      "source": [
        "Ahora que hemos definido la función de informes, vamos a comprobarlo. Para esta misión, los tanques no están llenos:"
      ]
    },
    {
      "cell_type": "code",
      "execution_count": 2,
      "metadata": {
        "id": "l6ObXgd_JY27",
        "outputId": "d258f17f-6092-431c-8554-1ca690907ed7",
        "colab": {
          "base_uri": "https://localhost:8080/"
        }
      },
      "outputs": [
        {
          "output_type": "stream",
          "name": "stdout",
          "text": [
            "Reporte de combustible:\n",
            "    promedio: 75.0%\n",
            "    Tanque Principal: 100%\n",
            "    Tanque Externo: 75%\n",
            "    Tanque Hidrógeno: 50% \n",
            "    \n"
          ]
        }
      ],
      "source": [
        "\n",
        "# Llamamos a la función que genera el reporte print(funcion(tanque1, tanque2, tanque3))\n",
        "print(generadorRepote(100, 75, 50))"
      ]
    },
    {
      "cell_type": "markdown",
      "metadata": {
        "id": "9dED3FoAJY28"
      },
      "source": [
        "En lugar de simplemente crear el informe, la función también está calculando el promedio. Mejora la legibilidad extrayendo el cálculo promedio de la función en una nueva función para que el promedio se pueda hacer de forma independiente:"
      ]
    },
    {
      "cell_type": "code",
      "execution_count": 5,
      "metadata": {
        "id": "1NxWYTJ2JY2-",
        "outputId": "3b6299a0-d088-40b1-e4fc-f36bff9c041f",
        "colab": {
          "base_uri": "https://localhost:8080/"
        }
      },
      "outputs": [
        {
          "output_type": "execute_result",
          "data": {
            "text/plain": [
              "2670.3333333333335"
            ]
          },
          "metadata": {},
          "execution_count": 5
        }
      ],
      "source": [
        "# Función promedio \n",
        "def promedio(valores):\n",
        "    total = sum(valores)\n",
        "    cantidad = len(valores)\n",
        "    return total / cantidad\n",
        "\n",
        "\n",
        "promedio([1005, 2450, 4556]) "
      ]
    },
    {
      "cell_type": "markdown",
      "metadata": {
        "id": "krjeDAlgJY3A"
      },
      "source": [
        "Ahora actualiza la función de informes para llamando a la nueva función del promedio:\n"
      ]
    },
    {
      "cell_type": "code",
      "execution_count": 4,
      "metadata": {
        "id": "XQlPWQo1JY3B",
        "outputId": "c03e89d3-650e-4cd2-d614-f6fabad269c2",
        "colab": {
          "base_uri": "https://localhost:8080/"
        }
      },
      "outputs": [
        {
          "output_type": "stream",
          "name": "stdout",
          "text": [
            "Fuel Report:\n",
            "    Promedio Total: 75.0%\n",
            "    Tanque Principal: 100%\n",
            "    Tanque Externo: 75%\n",
            "    tanque Hidrógeno: 50% \n",
            "    \n"
          ]
        }
      ],
      "source": [
        "# Actualiza la función\n",
        "def generadorRepote(tanquePrincipal, tanqueExterno, tanqueHidrógeno):\n",
        "    return f\"\"\"Fuel Report:\n",
        "    Promedio Total: {promedio([tanquePrincipal, tanqueExterno, tanqueHidrógeno])}%\n",
        "    Tanque Principal: {tanquePrincipal}%\n",
        "    Tanque Externo: {tanqueExterno}%\n",
        "    tanque Hidrógeno: {tanqueHidrógeno}% \n",
        "    \"\"\"\n",
        "\n",
        "print(generadorRepote(100, 75, 50))"
      ]
    },
    {
      "cell_type": "markdown",
      "metadata": {
        "id": "8UOplgAbJY3C"
      },
      "source": [
        "> Recuerda: Lo importante es intentarlo, puedes auxiliarte de internet, libros, etc. El objetivo de una kata es la comprobación de la comprensión de la lección y su aplicación inmediata a la resolución de problemas. Go for it!"
      ]
    },
    {
      "cell_type": "markdown",
      "metadata": {
        "id": "qq5MS57ZJY3D"
      },
      "source": [
        "## Ejercicio 2: Trabajo con argumentos de palabra clave"
      ]
    },
    {
      "cell_type": "markdown",
      "metadata": {
        "id": "0yKzs00RJY3E"
      },
      "source": [
        "### Ejercicio : Trabajar con argumentos de palabras clave en funciones\n",
        "En este ejercicio, construirás un informe de cohete que requiere varias piezas de información, como el tiempo hasta el destino, el combustible a la izquierda y el nombre del destino. Comienza por crear una función que creará un informe preciso de la misión:"
      ]
    },
    {
      "cell_type": "code",
      "execution_count": 6,
      "metadata": {
        "id": "ENzRQYTEJY3F",
        "outputId": "987cccbc-1765-4c70-96b3-71d4ec56e383",
        "colab": {
          "base_uri": "https://localhost:8080/"
        }
      },
      "outputs": [
        {
          "output_type": "stream",
          "name": "stdout",
          "text": [
            "\n",
            "    Misión a  la Luna\n",
            "    Tiempo total de viaje: 120 minutos\n",
            "    Combustible restante: 540000 litros\n",
            "    \n"
          ]
        }
      ],
      "source": [
        "# Función con un informe preciso de la misión. Considera hora de prelanzamiento, tiempo de vuelo, destino, tanque externo y tanque interno\n",
        "def reporte(prelanzamiento, tiempo_de_vuelo, destino, tanque_externo, tanque_interno):\n",
        "    return f\"\"\"\n",
        "    Misión a {destino}\n",
        "    Tiempo total de viaje: {prelanzamiento + tiempo_de_vuelo} minutos\n",
        "    Combustible restante: {tanque_externo + tanque_interno} litros\n",
        "    \"\"\"\n",
        "\n",
        "print(reporte(30, 90, \" la Luna\", 20000, 520000)) "
      ]
    },
    {
      "cell_type": "markdown",
      "metadata": {
        "id": "h1jMeIUzJY3G"
      },
      "source": [
        "La función es problemática porque no se puede adaptar para minutos adicionales o tanques adicionales de combustible. Hazlo más flexible permitiendo cualquier número de pasos basados en el tiempo y cualquier número de tanques. En lugar de usar `*args` y `**kwargs`, aprovecha el hecho de que puedes usar cualquier nombre que desees. Asegurate que la función sea más legible mediante el uso de nombres de variables que están asociados con las entradas, como `*minutes` y `**fuel_reservoirs`:"
      ]
    },
    {
      "cell_type": "code",
      "execution_count": 7,
      "metadata": {
        "id": "s7DeZgVoJY3H",
        "outputId": "ec9d90e3-0e5b-4ec5-8d8e-58c43d0f562c",
        "colab": {
          "base_uri": "https://localhost:8080/"
        }
      },
      "outputs": [
        {
          "output_type": "stream",
          "name": "stdout",
          "text": [
            "\n",
            "    Misión a la Luna\n",
            "    Tiempo de viaje: 76 minutes\n",
            "    Combustible restante: 500000\n",
            "    \n"
          ]
        }
      ],
      "source": [
        "# Escribe tu nueva función de reporte considerando lo anterior\n",
        "def reporte(destino, *minutos, **reservas):\n",
        "    return f\"\"\"\n",
        "    Misión a {destino}\n",
        "    Tiempo de viaje: {sum(minutos)} minutes\n",
        "    Combustible restante: {sum(reservas.values())}\n",
        "    \"\"\"\n",
        "\n",
        "print(reporte(\"la Luna\", 10, 15, 51, interno=300000, externo=200000))"
      ]
    },
    {
      "cell_type": "markdown",
      "metadata": {
        "id": "JJJvMiTfJY3I"
      },
      "source": [
        "Debido a que el combustible que queda en los tanques es específico de cada tanque, actualiza la función para usar el nombre de cada tanque en el informe:"
      ]
    },
    {
      "cell_type": "code",
      "execution_count": 8,
      "metadata": {
        "id": "fN22UM90JY3I",
        "outputId": "6c9afd48-0cf2-4c64-bc9b-76bdc4e4441c",
        "colab": {
          "base_uri": "https://localhost:8080/"
        }
      },
      "outputs": [
        {
          "output_type": "stream",
          "name": "stdout",
          "text": [
            "\n",
            "    Misión a la Luna\n",
            "    Tiempo de viaje: 74 minutos\n",
            "    Combustible restante: 500000\n",
            "    interno tanque --> 300000 litros restantes\n",
            "externo tanque --> 200000 litros restantes\n",
            "\n"
          ]
        }
      ],
      "source": [
        "# Escribe tu nueva función\n",
        "def reporte(destino, *minutos, ** reservas):\n",
        "    reportePrincipal = f\"\"\"\n",
        "    Misión a {destino}\n",
        "    Tiempo de viaje: {sum(minutos)} minutos\n",
        "    Combustible restante: {sum(reservas.values())}\n",
        "    \"\"\"\n",
        "    for tanque, litros in reservas.items():\n",
        "        reportePrincipal += f\"{tanque} tanque --> {litros} litros restantes\\n\"\n",
        "    return reportePrincipal\n",
        "\n",
        "print(reporte(\"la Luna\", 8, 11, 55, interno=300000, externo=200000))"
      ]
    }
  ],
  "metadata": {
    "interpreter": {
      "hash": "205095b8b86ea82a021a8fc2ffba2b3bc9f8d0be25999901963b225939f75778"
    },
    "kernelspec": {
      "display_name": "Python 3.8.10 64-bit ('tmp': conda)",
      "name": "python3"
    },
    "language_info": {
      "codemirror_mode": {
        "name": "ipython",
        "version": 3
      },
      "file_extension": ".py",
      "mimetype": "text/x-python",
      "name": "python",
      "nbconvert_exporter": "python",
      "pygments_lexer": "ipython3",
      "version": "3.8.10"
    },
    "nteract": {
      "version": "nteract-front-end@1.0.0"
    },
    "orig_nbformat": 4,
    "colab": {
      "name": "Módulo9Katas.ipynb",
      "provenance": []
    }
  },
  "nbformat": 4,
  "nbformat_minor": 0
}