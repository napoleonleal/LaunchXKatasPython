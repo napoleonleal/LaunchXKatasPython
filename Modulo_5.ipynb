{
  "cells": [
    {
      "cell_type": "markdown",
      "metadata": {
        "id": "BJ9ifwopGB1o"
      },
      "source": [
        "# Ejercicio1 - Utilizar operadores aritméticos"
      ]
    },
    {
      "cell_type": "markdown",
      "metadata": {
        "id": "8ePfG-dXGB1v"
      },
      "source": [
        "### Operadores aritméticos en Python\n",
        "Python proporciona operadores aritméticos comunes para que puedas realizar operaciones matemáticas en tu código. Estos incluyen las cuatro operaciones principales de suma, resta, multiplicación y división.\n",
        "\n",
        "Exploremos cómo podemos crear un programa que pueda calcular la distancia entre dos planetas.  Comenzaremos usando dos distancias de planetas: Tierra (149.597.870 km) y Júpiter (778.547.200 km).\n",
        "\n",
        "> **TIP**\n",
        "> Dedica unos minutos a tratar de encontrar una solución. Luego desplázate hacia abajo hasta la parte inferior para ver si has logrado compilar el programa de acuerdo con las especificaciones.\n",
        "\n",
        "**Nota:** Quita las comas cuando uses los valores."
      ]
    },
    {
      "cell_type": "code",
      "execution_count": 1,
      "metadata": {
        "id": "ttuSMj7_GB1y"
      },
      "outputs": [],
      "source": [
        "# Crear variables para almacenar las dos distancias\n",
        "# ¡Asegúrate de quitar las comas!\n",
        "first_planet = 149597870\n",
        "second_planet = 778547200"
      ]
    },
    {
      "cell_type": "markdown",
      "metadata": {
        "id": "LVPwLOzDGB11"
      },
      "source": [
        "### Realizar la operación\n",
        "\n",
        "Con los valores obtenidos, es el momento de añadir el código para realizar la operación. Restarás el primer planeta del segundo para determinar la distancia en kilómetros. A continuación, puedes convertir la distancia del kilómetro en millas multiplicándola por `0.621`."
      ]
    },
    {
      "cell_type": "code",
      "execution_count": 2,
      "metadata": {
        "id": "gEgMa38eGB12",
        "outputId": "70d510ea-2043-4def-a153-8f96138e2190",
        "colab": {
          "base_uri": "https://localhost:8080/"
        }
      },
      "outputs": [
        {
          "output_type": "stream",
          "name": "stdout",
          "text": [
            "628949330\n",
            "390577533.93\n"
          ]
        }
      ],
      "source": [
        "# Calcular la distancia entre planetas\n",
        "distance_km = second_planet - first_planet\n",
        "print(distance_km)\n",
        "\n",
        "distance_mi = distance_km * 0.621\n",
        "print(distance_mi)"
      ]
    },
    {
      "cell_type": "markdown",
      "metadata": {
        "id": "g4HI8Ro8GB12"
      },
      "source": [
        "### Prueba tu proyecto\n",
        "\n",
        "Con el código creado, ejecuta el notebook para obtener el resultado. Deberías recibir lo siguiente:\n",
        "\n",
        "```\n",
        "628949330\n",
        "390577534\n",
        "```\n",
        "\n",
        "> Recuerda: Lo importante es intentarlo, puedes auxiliarte de internet, libros, etc. El objetivo de una kata es la comprobación de la comprensión de la lección y su aplicación inmediata a la resolución de problemas. Go for it!\n",
        "\n",
        "---"
      ]
    },
    {
      "cell_type": "markdown",
      "metadata": {
        "id": "tMcu4O-bGB14"
      },
      "source": [
        "## Ejercicio 2: convierte cadenas en números y usa valores absolutos\n",
        "\n",
        "### Crear una aplicación para trabajar con números y entrada de usuario\n",
        "Con frecuencia, deberás convertir los valores de cadena en números para realizar correctamente diferentes operaciones o determinar el valor absoluto de un número.\n",
        "\n",
        "Para crear nuestra aplicación, queremos leer la distancia del sol para dos planetas, y luego mostrar la distancia entre los planetas. Haremos esto usando `input` para leer los valores, `int` para convertir a entero y luego `abs` para convertir el resultado en su valor absoluto."
      ]
    },
    {
      "cell_type": "markdown",
      "metadata": {
        "id": "UxfEQsxwGB16"
      },
      "source": [
        "### Lee los valores\n",
        "Usando `input`, agrega el código para leer la distancia del sol para cada planeta, considerando 2 planetas."
      ]
    },
    {
      "cell_type": "code",
      "execution_count": 3,
      "metadata": {
        "id": "hUqEUReyGB17",
        "outputId": "2095ba91-314f-4077-8948-4fc2888247fe",
        "colab": {
          "base_uri": "https://localhost:8080/"
        }
      },
      "outputs": [
        {
          "name": "stdout",
          "output_type": "stream",
          "text": [
            "Introduzca la distancia del sol para el primer planeta en KM1000000\n",
            "Introduzca la distancia desde el sol para el segundo planeta en KM20000\n"
          ]
        }
      ],
      "source": [
        "# Almacenar las entradas del usuario\n",
        "#Pista: variable = input(\"¿Cuál es tu nombre?\")\n",
        "first_planet = input('Introduzca la distancia del sol para el primer planeta en KM')\n",
        "second_planet = input('Introduzca la distancia desde el sol para el segundo planeta en KM')"
      ]
    },
    {
      "cell_type": "markdown",
      "metadata": {
        "id": "hIQzdk-ZGB18"
      },
      "source": [
        "### Convertir a número\n",
        "Debido a que `input` devuelve valores de cadena, necesitamos convertirlos en números. Para nuestro ejemplo, usaremos `int`"
      ]
    },
    {
      "cell_type": "code",
      "execution_count": 4,
      "metadata": {
        "id": "_zwuiO07GB19"
      },
      "outputs": [],
      "source": [
        "# Convierte las cadenas de ambos planetas a números enteros\n",
        "first_planet = int(first_planet)\n",
        "second_planet = int(second_planet)"
      ]
    },
    {
      "cell_type": "markdown",
      "metadata": {
        "id": "18ek9N8KGB1-"
      },
      "source": [
        "### Realizar el cálculo y convertir a valor absoluto\n",
        "\n",
        "Con los valores almacenados como números, ahora puedes agregar el código para realizar el cálculo, restando el primer planeta del segundo. Debido a que el segundo planeta podría ser un número mayor, usarás `abs` para convertirlo a un valor absoluto. También agregarás el código para mostrar el resultado en millas multiplicando la distancia del kilómetro por 0.621"
      ]
    },
    {
      "cell_type": "code",
      "execution_count": 5,
      "metadata": {
        "id": "lDFIi8_bGB1_",
        "outputId": "45de29b9-25e1-46a7-8d11-406a46ccfade",
        "colab": {
          "base_uri": "https://localhost:8080/"
        }
      },
      "outputs": [
        {
          "output_type": "stream",
          "name": "stdout",
          "text": [
            "-980000\n",
            "608580.0\n"
          ]
        }
      ],
      "source": [
        "# Realizar el cálculo y determinar el valor absoluto\n",
        "distance_km = second_planet - first_planet\n",
        "print(distance_km)\n",
        "\n",
        "# Convertir de KM a Millas\n",
        "distance_mi = distance_km * 0.621\n",
        "print(abs(distance_mi))"
      ]
    }
  ],
  "metadata": {
    "interpreter": {
      "hash": "502cd6c3b6c9e666d195e1caff9d64ea12bf644e547a4c8fae84812082c54b6f"
    },
    "kernel_info": {
      "name": "conda-env-py37_default-py"
    },
    "kernelspec": {
      "display_name": "py37_default",
      "language": "python",
      "name": "python3"
    },
    "language_info": {
      "codemirror_mode": {
        "name": "ipython",
        "version": 3
      },
      "file_extension": ".py",
      "mimetype": "text/x-python",
      "name": "python",
      "nbconvert_exporter": "python",
      "pygments_lexer": "ipython3",
      "version": "3.9.7"
    },
    "nteract": {
      "version": "nteract-front-end@1.0.0"
    },
    "orig_nbformat": 4,
    "colab": {
      "name": "Módulo5Katas.ipynb",
      "provenance": []
    }
  },
  "nbformat": 4,
  "nbformat_minor": 0
}