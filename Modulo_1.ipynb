{
  "cells": [
    {
      "cell_type": "markdown",
      "metadata": {
        "id": "boTxNBk_CGZb"
      },
      "source": [
        "Oficial superior> \"¿Cadete?\"\n",
        "\n",
        "Usted > \"¿Sí, señora?\"\n",
        "\n",
        "Oficial superior> \"¿Puedes construir un programa que me muestre la fecha? La computadora del barco no venía con mucho en términos de programas de utilidad, por lo que necesitamos crear los que necesitamos. ¿Puedo confiar en ti con esto?\"\n",
        "\n",
        "Usted > \"Considéralo hecho\".\n",
        "\n",
        "Oficial superior> \"Excelente\".\n",
        "\n",
        "## Tu primer programa\n",
        "\n",
        "Para crear este programa, deberás utilizar los conceptos que aprendiste en el último módulo. Usarás Jupyter Notebook en este ejercicio, que es una combinación de texto y código con la que puede interactuar. Finaliza el código siguiente para que el resultado muestre la fecha de hoy."
      ]
    },
    {
      "cell_type": "code",
      "execution_count": 1,
      "metadata": {
        "id": "yZxgxmR5CGZj",
        "outputId": "60eab3e1-6b1f-4047-c576-b9781a41f873",
        "colab": {
          "base_uri": "https://localhost:8080/"
        }
      },
      "outputs": [
        {
          "output_type": "stream",
          "name": "stdout",
          "text": [
            "Today's date is: 2022-02-22\n"
          ]
        }
      ],
      "source": [
        "from datetime import date\n",
        "\n",
        "print(\"Today's date is: \" + str(date.today()))"
      ]
    },
    {
      "cell_type": "markdown",
      "metadata": {
        "id": "steVFeOYCGZn"
      },
      "source": [
        "> **TIP**\n",
        "> Dedique unos minutos a tratar de encontrar una solución. Luego desplácese hacia abajo hasta la parte inferior para ver si ha logrado compilar el programa de acuerdo con las especificaciones.\n",
        "\n",
        "## Construir un convertidor de unidades\n",
        "\n",
        "El oficial superior> \"Necesito una cosa más: un programa de conversión entre parsecs y años luz. Tener un programa de este tipo podría ser realmente útil en el puente para trazar nuestro curso\".\n",
        "\n",
        "Tú> \"¡Lo haré!\"\n"
      ]
    },
    {
      "cell_type": "code",
      "execution_count": 4,
      "metadata": {
        "id": "5biU2M2GCGZo",
        "outputId": "4ba30a43-f28d-4b87-cbad-53fba9455f80",
        "colab": {
          "base_uri": "https://localhost:8080/"
        }
      },
      "outputs": [
        {
          "output_type": "stream",
          "name": "stdout",
          "text": [
            "11 parsec, is 35.877159999999996 lightyears\n",
            "11  parsec, is  35.877159999999996 lightyears\n",
            "11 parsec, is 35.877159999999996lightyears\n"
          ]
        }
      ],
      "source": [
        "parsec = 11\n",
        "\n",
        "lightyears = parsec * 3.26156\n",
        "\n",
        "#1\n",
        "print(str(parsec) + \" parsec, is \" + str(lightyears) + \" lightyears\")\n",
        "\n",
        "#2\n",
        "print(parsec, \" parsec, is \", lightyears, \"lightyears\")\n",
        "\n",
        "#3\n",
        "print(str(parsec) + \" parsec, is \" + str(lightyears) + \"lightyears\")"
      ]
    },
    {
      "cell_type": "markdown",
      "metadata": {
        "id": "ed8eJIUDCGZp"
      },
      "source": [
        "> [!TIP]\n",
        "> 1 parsec es 3.26156 años luz. Utiliza el operador de multiplicación."
      ]
    }
  ],
  "metadata": {
    "kernel_info": {
      "name": "conda-env-py37_default-py"
    },
    "kernelspec": {
      "display_name": "py37_default",
      "language": "python",
      "name": "conda-env-py37_default-py"
    },
    "language_info": {
      "codemirror_mode": {
        "name": "ipython",
        "version": 3
      },
      "file_extension": ".py",
      "mimetype": "text/x-python",
      "name": "python",
      "nbconvert_exporter": "python",
      "pygments_lexer": "ipython3",
      "version": "3.7.9"
    },
    "nteract": {
      "version": "nteract-front-end@1.0.0"
    },
    "orig_nbformat": 4,
    "colab": {
      "name": "Modulo1Katas.ipynb",
      "provenance": []
    }
  },
  "nbformat": 4,
  "nbformat_minor": 0
}